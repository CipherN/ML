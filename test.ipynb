{
 "cells": [
  {
   "cell_type": "code",
   "execution_count": 4,
   "metadata": {},
   "outputs": [
    {
     "name": "stdout",
     "output_type": "stream",
     "text": [
      "             Open    High    Low   Last     Volume      Turnover\nDate                                                            \n2018-06-13  400.0  503.90  400.0  455.0  1529232.0  6.747798e+08\n2018-06-14  469.0  484.00  438.0  438.0   148388.0  6.854001e+07\n2018-06-15  435.4  437.25  415.1  420.0   116467.0  4.956063e+07\n2018-06-18  422.0  422.75  401.2  411.0    88873.0  3.647116e+07\n2018-06-19  409.7  425.00  401.9  412.5    63138.0  2.622134e+07\n"
     ]
    }
   ],
   "source": [
    "import quandl\n",
    "df = quandl.get(\"EURONEXT/ADYEN\", authtoken=\"sK4W-_oyzEruw8RVZVPS\")\n",
    "print(df.head())"
   ]
  },
  {
   "cell_type": "code",
   "execution_count": 4,
   "metadata": {},
   "outputs": [],
   "source": []
  },
  {
   "cell_type": "code",
   "execution_count": null,
   "metadata": {},
   "outputs": [],
   "source": []
  }
 ],
 "metadata": {
  "kernelspec": {
   "display_name": "Python 2",
   "language": "python",
   "name": "python2"
  },
  "language_info": {
   "codemirror_mode": {
    "name": "ipython",
    "version": 2
   },
   "file_extension": ".py",
   "mimetype": "text/x-python",
   "name": "python",
   "nbconvert_exporter": "python",
   "pygments_lexer": "ipython2",
   "version": "2.7.6"
  }
 },
 "nbformat": 4,
 "nbformat_minor": 0
}
